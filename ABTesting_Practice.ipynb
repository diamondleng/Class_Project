{
  "nbformat": 4,
  "nbformat_minor": 0,
  "metadata": {
    "colab": {
      "name": "ABTesting Practice.ipynb",
      "provenance": [],
      "include_colab_link": true
    },
    "kernelspec": {
      "name": "python3",
      "display_name": "Python 3"
    }
  },
  "cells": [
    {
      "cell_type": "markdown",
      "metadata": {
        "id": "view-in-github",
        "colab_type": "text"
      },
      "source": [
        "<a href=\"https://colab.research.google.com/github/diamondleng/Class_Project/blob/main/ABTesting_Practice.ipynb\" target=\"_parent\"><img src=\"https://colab.research.google.com/assets/colab-badge.svg\" alt=\"Open In Colab\"/></a>"
      ]
    },
    {
      "cell_type": "markdown",
      "metadata": {
        "id": "0lDMB9YjAeKP"
      },
      "source": [
        "**AB testing**"
      ]
    },
    {
      "cell_type": "markdown",
      "metadata": {
        "id": "iMtgNGOzRHZf"
      },
      "source": [
        "Generate 100000 dice rolling results"
      ]
    },
    {
      "cell_type": "code",
      "source": [
        ""
      ],
      "metadata": {
        "id": "Jd9lE3vPBJTW"
      },
      "execution_count": null,
      "outputs": []
    },
    {
      "cell_type": "code",
      "metadata": {
        "id": "ClBBA2IHAZPh",
        "colab": {
          "base_uri": "https://localhost:8080/"
        },
        "outputId": "9a90143b-d54e-4bf9-c30f-37b1b898b564"
      },
      "source": [
        "import numpy as np \n",
        "import matplotlib.pyplot as plt\n",
        "random_data = np.random.randint(1, 7, 100000)\n",
        "print(random_data.mean()) \n",
        "print(random_data.std()) "
      ],
      "execution_count": null,
      "outputs": [
        {
          "output_type": "stream",
          "name": "stdout",
          "text": [
            "3.49443\n",
            "1.7060155260430663\n"
          ]
        }
      ]
    },
    {
      "cell_type": "code",
      "metadata": {
        "id": "S5uIaVWUgzlR",
        "colab": {
          "base_uri": "https://localhost:8080/"
        },
        "outputId": "4e30f834-1385-4bb2-ab43-1b880b5a1075"
      },
      "source": [
        "print(random_data[0:100])"
      ],
      "execution_count": null,
      "outputs": [
        {
          "output_type": "stream",
          "name": "stdout",
          "text": [
            "[5 1 3 3 1 6 2 3 2 4 4 6 6 2 4 4 6 2 1 2 2 6 2 2 2 2 6 1 1 4 4 2 5 5 5 6 5\n",
            " 2 3 5 5 4 1 5 6 5 4 2 1 1 4 3 3 4 3 6 4 1 3 6 1 5 2 3 6 3 1 5 4 2 5 4 4 5\n",
            " 1 6 2 1 6 5 4 6 4 2 1 5 6 2 3 2 4 5 1 2 1 3 5 6 3 2]\n"
          ]
        }
      ]
    },
    {
      "cell_type": "code",
      "metadata": {
        "id": "SCCr0s-EAoIb",
        "colab": {
          "base_uri": "https://localhost:8080/"
        },
        "outputId": "4ff651a9-a3fc-4977-f48e-9f59a0dae1e2"
      },
      "source": [
        "sample1 = []\n",
        "for i in range(0, 10):\n",
        "    sample1.append(random_data[int(np.random.random() * len(random_data))])\n",
        "\n",
        "print(sample1)"
      ],
      "execution_count": null,
      "outputs": [
        {
          "output_type": "stream",
          "name": "stdout",
          "text": [
            "[6, 2, 2, 4, 2, 6, 4, 4, 6, 2]\n"
          ]
        }
      ]
    },
    {
      "cell_type": "code",
      "source": [
        "plt.rcParams.update({'figure.figsize':(7,5), 'figure.dpi':100})\n",
        "\n",
        "plt.hist(random_data)\n",
        "plt.gca().set(title='Frequency Histogram', ylabel='Frequency');\n"
      ],
      "metadata": {
        "colab": {
          "base_uri": "https://localhost:8080/",
          "height": 460
        },
        "id": "5n4n1e6o0Ut5",
        "outputId": "c76a1f50-45d5-4fc2-f0c3-cc7634208784"
      },
      "execution_count": null,
      "outputs": [
        {
          "output_type": "display_data",
          "data": {
            "image/png": "[encoded data removed]",
            "text/plain": [
              "<Figure size 700x500 with 1 Axes>"
            ]
          },
          "metadata": {
            "needs_background": "light"
          }
        }
      ]
    },
    {
      "cell_type": "code",
      "metadata": {
        "id": "k4YjFg7fDmdb",
        "colab": {
          "base_uri": "https://localhost:8080/"
        },
        "outputId": "1e1dd2b1-278d-4d85-8889-bd9ae60ab3ce"
      },
      "source": [
        "np.mean(sample1)"
      ],
      "execution_count": null,
      "outputs": [
        {
          "output_type": "execute_result",
          "data": {
            "text/plain": [
              "3.8"
            ]
          },
          "metadata": {},
          "execution_count": 12
        }
      ]
    },
    {
      "cell_type": "code",
      "metadata": {
        "id": "_63vUGURECM5",
        "colab": {
          "base_uri": "https://localhost:8080/"
        },
        "outputId": "96f1e2ff-4aa4-402f-cf1b-dff42c7efbd0"
      },
      "source": [
        "np.std(sample1)"
      ],
      "execution_count": null,
      "outputs": [
        {
          "output_type": "execute_result",
          "data": {
            "text/plain": [
              "1.6613247725836149"
            ]
          },
          "metadata": {},
          "execution_count": 13
        }
      ]
    },
    {
      "cell_type": "markdown",
      "metadata": {
        "id": "cnuJDj-ZRXYf"
      },
      "source": [
        "CLT Central Limit Theorem "
      ]
    },
    {
      "cell_type": "code",
      "metadata": {
        "id": "kkVlFzfUA0JS",
        "colab": {
          "base_uri": "https://localhost:8080/"
        },
        "outputId": "bd0c4739-ce7b-493e-b6d7-a8f974e51e1e"
      },
      "source": [
        "samples = []\n",
        "samples_mean = []\n",
        "samples_std = []\n",
        "\n",
        "for i in range(0, 1000):\n",
        "    sample = []\n",
        "    for j in range(0, 50):\n",
        "        sample.append(random_data[int(np.random.random() * len(random_data))])\n",
        "    sample_np = np.array(sample)\n",
        "    samples_mean.append(sample_np.mean())\n",
        "    samples_std.append(sample_np.std())\n",
        "    samples.append(sample_np)\n",
        "\n",
        "samples_mean_np = np.array(samples_mean)\n",
        "samples_std_np = np.array(samples_std)\n",
        "\n",
        "print(samples_mean_np)"
      ],
      "execution_count": null,
      "outputs": [
        {
          "output_type": "stream",
          "name": "stdout",
          "text": [
            "[3.46 3.58 3.6  3.12 3.24 3.24 3.06 3.52 3.48 2.96 3.72 3.3  3.38 3.16\n",
            " 3.62 3.54 3.82 3.28 3.56 3.36 3.8  3.56 4.02 3.16 3.94 3.6  3.64 3.44\n",
            " 3.42 3.64 3.3  3.54 3.32 3.12 3.08 3.7  3.56 3.2  3.46 3.26 3.9  3.36\n",
            " 3.5  3.5  3.6  3.18 3.54 3.4  3.72 3.68 3.3  3.58 3.26 3.18 3.36 3.4\n",
            " 3.4  3.22 3.46 3.16 3.26 3.22 3.5  3.74 3.68 3.18 3.2  3.14 3.64 3.08\n",
            " 3.82 3.82 3.3  3.36 3.32 3.48 3.56 3.34 3.74 3.36 3.5  3.68 3.46 3.62\n",
            " 3.5  3.16 3.12 3.8  3.34 3.26 3.54 3.68 3.74 3.52 3.4  3.84 3.62 3.66\n",
            " 3.98 3.6  3.56 3.62 3.34 3.18 3.16 3.34 3.46 3.62 3.32 3.46 3.38 3.5\n",
            " 3.84 3.74 3.18 3.46 3.42 3.5  3.4  3.88 3.28 3.56 3.7  3.54 3.34 3.06\n",
            " 3.68 3.12 3.68 4.   3.7  3.32 3.1  3.24 3.52 3.62 3.12 4.1  3.62 3.34\n",
            " 3.52 3.72 3.58 4.06 3.52 3.42 3.86 3.58 3.58 3.22 3.3  2.96 3.66 3.42\n",
            " 3.5  3.52 3.44 3.72 3.42 3.24 3.36 3.26 3.14 3.32 3.42 3.6  3.28 3.62\n",
            " 3.26 3.84 3.5  3.18 3.54 3.54 3.8  3.02 3.32 3.44 3.34 3.6  3.44 3.54\n",
            " 3.46 3.48 3.98 3.34 3.16 3.14 3.56 3.44 3.9  3.78 3.34 3.72 3.44 3.5\n",
            " 3.5  3.52 3.42 4.06 3.76 3.48 3.66 3.5  3.3  3.48 3.98 3.72 3.62 3.28\n",
            " 3.2  3.64 3.32 3.14 3.5  3.72 3.16 3.52 3.38 3.86 3.44 3.88 3.28 3.72\n",
            " 3.12 3.84 3.54 3.48 3.3  3.62 3.92 3.32 4.   3.64 3.68 3.62 3.56 3.78\n",
            " 3.22 3.26 3.1  3.74 3.44 3.6  3.5  3.44 2.8  3.34 3.64 2.94 3.48 3.3\n",
            " 3.68 3.82 3.44 3.18 3.32 3.94 3.46 3.88 3.92 3.46 3.6  3.52 3.84 3.48\n",
            " 3.1  3.42 3.4  3.56 3.4  3.74 3.94 2.96 3.46 3.52 3.88 3.12 3.44 3.44\n",
            " 3.26 3.6  3.38 3.16 3.32 3.72 3.7  3.66 3.78 3.26 3.82 3.16 3.64 3.56\n",
            " 3.32 3.48 3.26 3.72 3.48 3.36 3.58 3.62 3.08 3.7  3.48 3.78 2.76 3.44\n",
            " 3.5  3.56 3.18 3.34 3.22 3.3  3.38 3.34 3.18 3.2  3.34 4.06 3.78 3.34\n",
            " 3.62 3.62 3.72 3.52 3.48 3.74 4.06 3.4  3.58 3.02 3.76 3.48 3.2  3.28\n",
            " 3.98 3.42 3.4  3.86 3.48 3.68 3.34 3.72 3.78 3.54 3.22 3.5  3.32 3.32\n",
            " 3.52 3.78 3.74 3.06 3.42 3.6  3.16 3.5  3.44 3.46 3.52 3.2  3.48 3.62\n",
            " 3.74 3.92 3.52 3.74 3.76 3.36 3.5  3.82 3.76 3.22 3.28 3.32 3.38 3.66\n",
            " 3.36 3.6  3.1  3.36 3.6  3.28 3.42 3.58 3.32 3.7  3.56 3.46 3.14 3.48\n",
            " 3.48 3.4  3.46 3.66 3.28 3.64 3.48 3.6  3.36 3.3  3.86 3.54 3.28 3.76\n",
            " 3.72 3.56 3.66 3.22 3.92 3.42 3.34 3.66 3.3  3.96 3.2  3.6  3.58 3.28\n",
            " 3.28 3.66 3.56 3.8  3.68 3.34 3.62 3.72 3.54 3.94 3.26 3.46 3.84 3.68\n",
            " 3.36 3.92 3.62 2.92 3.76 3.46 3.5  3.3  3.44 3.66 3.34 3.5  3.26 3.56\n",
            " 3.96 3.46 3.62 3.56 3.8  3.62 3.58 3.18 4.2  3.14 3.28 3.52 3.6  3.76\n",
            " 3.82 3.62 3.72 3.42 3.4  3.58 3.22 3.72 3.3  3.28 3.48 3.28 3.72 3.36\n",
            " 3.3  3.52 3.5  3.66 3.6  3.3  3.12 3.78 3.52 3.86 3.38 3.38 3.5  3.22\n",
            " 3.48 3.66 3.6  3.6  3.34 3.56 3.5  3.46 3.5  3.92 3.68 3.82 3.56 3.78\n",
            " 3.9  3.08 3.24 3.18 3.52 3.46 3.62 3.6  3.7  3.4  3.82 3.68 3.42 3.36\n",
            " 3.92 3.46 3.56 3.46 3.56 3.66 3.32 3.3  3.84 3.64 3.4  3.58 3.16 3.52\n",
            " 3.58 3.76 3.36 3.78 3.5  3.78 3.72 3.58 3.52 3.76 3.42 3.14 3.32 3.24\n",
            " 3.7  3.36 3.1  3.22 3.42 3.66 3.52 3.42 3.54 3.66 3.06 3.42 3.34 3.7\n",
            " 2.96 3.44 3.24 3.7  3.22 3.36 3.4  2.82 3.78 3.4  3.6  2.8  3.44 2.9\n",
            " 3.56 3.96 3.44 3.48 3.46 3.6  3.68 3.44 3.82 3.34 3.8  3.74 3.54 3.52\n",
            " 3.8  4.12 3.26 3.82 3.58 3.44 3.52 3.42 3.78 3.34 3.68 3.54 3.8  3.76\n",
            " 3.84 3.52 3.48 3.76 3.32 3.36 3.36 3.18 3.4  3.52 3.46 3.04 3.9  3.62\n",
            " 3.98 3.4  3.74 3.36 3.86 3.54 3.7  3.06 3.54 3.4  3.38 3.   3.64 3.72\n",
            " 3.52 3.82 3.6  3.26 3.14 3.44 3.66 3.46 3.22 3.28 3.3  3.76 3.34 3.58\n",
            " 3.84 3.32 3.44 3.6  3.98 3.58 3.68 3.06 3.72 3.26 3.62 3.56 3.6  3.48\n",
            " 3.68 3.3  3.5  3.92 3.44 3.7  3.32 3.48 3.64 3.4  3.64 3.7  3.74 3.06\n",
            " 3.66 3.42 3.7  3.18 3.36 3.78 3.18 3.72 3.82 3.62 3.32 3.46 3.28 3.36\n",
            " 3.82 3.16 3.3  3.2  3.64 3.46 3.44 3.7  3.76 3.42 3.66 3.4  3.3  3.6\n",
            " 3.56 2.88 3.58 3.28 3.56 3.58 3.76 3.44 3.22 3.7  2.92 3.74 3.62 3.34\n",
            " 4.   4.06 3.88 3.44 3.84 3.56 3.82 3.56 3.46 3.4  3.48 3.24 3.76 3.36\n",
            " 3.46 3.18 3.46 3.6  3.32 3.74 3.68 3.44 3.3  3.78 2.7  3.7  3.24 3.72\n",
            " 3.6  3.54 3.16 3.92 3.02 3.7  3.4  3.58 3.6  3.32 3.84 3.7  3.12 3.3\n",
            " 3.46 3.54 3.34 3.48 3.54 3.64 3.78 3.34 4.1  3.44 3.18 3.14 3.4  3.58\n",
            " 2.96 3.16 3.8  3.66 3.32 3.76 3.32 3.16 3.76 3.74 3.38 3.08 3.94 3.26\n",
            " 3.68 3.58 4.08 3.58 3.8  3.48 3.24 3.62 3.24 3.52 3.6  3.36 3.4  3.52\n",
            " 3.46 3.26 3.3  3.24 3.86 3.   3.42 3.54 3.46 3.92 3.38 3.62 3.46 3.52\n",
            " 3.2  3.64 3.18 3.58 3.8  3.56 3.12 3.64 3.6  3.32 3.32 3.38 3.56 3.8\n",
            " 3.04 2.98 3.42 3.4  3.46 3.12 3.86 2.9  3.44 3.54 3.44 3.8  3.46 3.44\n",
            " 3.22 3.58 3.92 3.22 3.4  3.38 3.62 3.58 3.18 3.46 3.6  3.44 2.98 3.28\n",
            " 3.48 3.3  3.26 3.44 3.4  3.3  3.52 3.28 3.62 3.26 3.64 3.1  3.32 3.58\n",
            " 3.48 3.3  3.9  3.54 3.58 3.68 3.68 3.7  2.38 3.6  3.4  3.7  3.48 3.32\n",
            " 3.12 3.56 3.56 3.48 3.9  3.58 3.46 3.9  3.32 3.64 3.06 3.58 3.78 3.26\n",
            " 3.32 3.66 3.62 3.64 3.04 3.6  3.76 3.3  4.02 3.78 3.66 3.62 3.58 3.72\n",
            " 3.68 3.72 3.42 3.72 3.   3.7  3.16 3.3  3.3  3.7  3.66 3.16 3.66 3.28\n",
            " 3.68 3.22 3.58 3.52 3.54 3.7  3.3  3.4  3.56 3.56 3.6  3.46 3.32 3.52\n",
            " 3.6  3.32 3.5  3.36 3.24 4.   3.34 3.44 3.06 3.88 3.36 2.94 3.56 3.4\n",
            " 4.1  3.7  3.52 3.82 3.9  3.74 3.06 3.04 3.28 3.68 2.92 3.58 3.32 3.24\n",
            " 3.24 3.54 3.9  3.42 3.54 3.62 3.9  3.46 3.74 3.42 3.76 3.36 3.44 3.48\n",
            " 3.4  2.98 3.66 3.52 3.68 3.78 3.58 3.28 3.86 3.66 4.08 3.4  3.42 3.96\n",
            " 3.72 3.32 3.34 3.58 3.14 3.62]\n"
          ]
        }
      ]
    },
    {
      "cell_type": "code",
      "metadata": {
        "colab": {
          "base_uri": "https://localhost:8080/"
        },
        "id": "m5b6sMnuU5Wo",
        "outputId": "a6df2618-13ab-4d52-c3da-3f8794a7a3c6"
      },
      "source": [
        "samples_mean_mean = samples_mean_np.mean()\n",
        "print(samples_mean_mean)\n",
        "samples_mean_std = samples_mean_np.std()\n",
        "print(samples_mean_std)"
      ],
      "execution_count": null,
      "outputs": [
        {
          "output_type": "stream",
          "name": "stdout",
          "text": [
            "3.4942999999999995\n",
            "0.24361590670561722\n"
          ]
        }
      ]
    },
    {
      "cell_type": "code",
      "metadata": {
        "id": "cycnx-JCBSjY",
        "colab": {
          "base_uri": "https://localhost:8080/",
          "height": 460
        },
        "outputId": "742a6311-ccbe-4cbf-b0dc-215069faba2a"
      },
      "source": [
        "import matplotlib.pyplot as plt\n",
        "%matplotlib inline\n",
        "plt.rcParams.update({'figure.figsize':(7,5), 'figure.dpi':100})\n",
        "\n",
        "# Plot Histogram on x\n",
        "#x = np.random.normal(size = 1000)\n",
        "plt.hist(samples_mean_np, bins=20)\n",
        "plt.gca().set(title='Frequency Histogram', ylabel='Frequency');\n"
      ],
      "execution_count": null,
      "outputs": [
        {
          "output_type": "display_data",
          "data": {
            "image/png": "[encoded data removed]",
            "text/plain": [
              "<Figure size 700x500 with 1 Axes>"
            ]
          },
          "metadata": {
            "needs_background": "light"
          }
        }
      ]
    },
    {
      "cell_type": "markdown",
      "metadata": {
        "id": "FpaB2pRkRzkY"
      },
      "source": [
        "AB Testing examples"
      ]
    },
    {
      "cell_type": "code",
      "metadata": {
        "id": "7WBRl8PkKX9x",
        "colab": {
          "base_uri": "https://localhost:8080/"
        },
        "outputId": "7260387b-6b78-49d1-a07a-82831011d799"
      },
      "source": [
        "from scipy.stats import norm \n",
        "norm.cdf(-0.632)"
      ],
      "execution_count": null,
      "outputs": [
        {
          "output_type": "execute_result",
          "data": {
            "text/plain": [
              "0.2636934386118963"
            ]
          },
          "metadata": {},
          "execution_count": 64
        }
      ]
    },
    {
      "cell_type": "code",
      "metadata": {
        "colab": {
          "base_uri": "https://localhost:8080/"
        },
        "id": "Dotxd4vE2m9T",
        "outputId": "5444f318-bd02-46f3-ad0b-2b4ead912404"
      },
      "source": [
        "from scipy.stats import norm \n",
        "norm.cdf(-2)"
      ],
      "execution_count": null,
      "outputs": [
        {
          "output_type": "execute_result",
          "data": {
            "text/plain": [
              "0.022750131948179195"
            ]
          },
          "metadata": {},
          "execution_count": 65
        }
      ]
    },
    {
      "cell_type": "code",
      "metadata": {
        "colab": {
          "base_uri": "https://localhost:8080/"
        },
        "id": "97q2-plA-8sS",
        "outputId": "ba467d11-8e6d-4f7f-8c6e-e7c65c94bc37"
      },
      "source": [
        "from scipy.stats import t\n",
        "alpha = 0.05\n",
        "t_stat = 2\n",
        "df = 200\n",
        "p = (1-t.cdf(abs(t_stat),df))*2\n",
        "print(\"p value:\", p)"
      ],
      "execution_count": null,
      "outputs": [
        {
          "output_type": "stream",
          "name": "stdout",
          "text": [
            "p value: 0.04685318618707113\n"
          ]
        }
      ]
    },
    {
      "cell_type": "code",
      "metadata": {
        "id": "JbFvfrMXC9D1",
        "colab": {
          "base_uri": "https://localhost:8080/"
        },
        "outputId": "fd0c59f0-efbe-4fa4-eb81-3ab4229fd1cb"
      },
      "source": [
        "\n",
        "norm.cdf(-1.18)\n"
      ],
      "execution_count": null,
      "outputs": [
        {
          "output_type": "execute_result",
          "data": {
            "text/plain": [
              "0.11900010745520073"
            ]
          },
          "metadata": {},
          "execution_count": 67
        }
      ]
    },
    {
      "cell_type": "code",
      "metadata": {
        "id": "kpsdic7jKVY3",
        "colab": {
          "base_uri": "https://localhost:8080/"
        },
        "outputId": "622fd616-9562-4b90-d990-4fa1e1019e18"
      },
      "source": [
        "norm.cdf(-3.6)\n"
      ],
      "execution_count": null,
      "outputs": [
        {
          "output_type": "execute_result",
          "data": {
            "text/plain": [
              "0.00015910859015753364"
            ]
          },
          "metadata": {},
          "execution_count": 68
        }
      ]
    },
    {
      "cell_type": "code",
      "source": [
        "import math\n",
        "import numpy as np\n",
        "from numpy.random import randn\n",
        "from statsmodels.stats.weightstats import ztest\n",
        "  \n",
        "# 随机产生 50 个session length having mean 102\n",
        "\n",
        "mean_Session_length = 101\n",
        "sd_Session_length = 15/math.sqrt(50)\n",
        "alpha =0.05\n",
        "\n",
        "Nathan_Default_mean =100\n",
        "data = sd_Session_length*randn(50)+mean_Session_length\n",
        "print(data)\n",
        "\n",
        "# print mean and sd\n",
        "print('mean=%.2f stdv=%.2f' % (np.mean(data), np.std(data)))\n",
        "  \n",
        "# now we perform the test. \n",
        "  \n",
        "ztest_Score, p_value= ztest(data,value = Nathan_Default_mean, alternative='larger')\n",
        "\n",
        "print(\"ztest_Score =\", ztest_Score)\n",
        "print(\"p_value =\", p_value)\n",
        "alpha = 0.05\n",
        "if p_value > alpha:\n",
        "\tprint('Cant reject null hypothesis - Lets assume they are the same.')\n",
        "else:\n",
        "\tprint('Reject the null hypothesis that the means are equal.  - They are different')"
      ],
      "metadata": {
        "colab": {
          "base_uri": "https://localhost:8080/"
        },
        "id": "hqBGqSZctSr_",
        "outputId": "e01281c5-9d3f-4147-9f13-1310ba39d93b"
      },
      "execution_count": null,
      "outputs": [
        {
          "output_type": "stream",
          "name": "stdout",
          "text": [
            "[106.4322051  103.70980017  97.16762967 100.2602163   99.76756987\n",
            " 100.8650297   99.68535878  94.32525019 101.1416062   98.29259762\n",
            " 101.64012297 101.54482284 101.06910166  99.67500825 101.77139826\n",
            "  99.42051027  99.83966256 101.4705942  102.402695   102.57424685\n",
            " 103.24894331 100.47304664  98.29013841 100.10156891  99.60827937\n",
            " 100.26461537  97.99940053 101.75135611 100.28194175 106.58870781\n",
            " 105.36776644 103.46959049 103.61504693 100.38554613 100.85661065\n",
            " 104.70460361 100.14298766 100.13853304 102.78935898 102.16942304\n",
            " 100.2641114   97.09682215 102.18868516 102.3963739  100.50449103\n",
            "  96.87210857  99.49091193  99.65878833  96.89832653  98.31445541]\n",
            "mean=100.78 stdv=2.41\n",
            "ztest_Score = 2.2648834018700277\n",
            "p_value = 0.011759917794580283\n",
            "Reject the null hypothesis that the means are equal.  - They are different\n"
          ]
        }
      ]
    },
    {
      "cell_type": "code",
      "source": [
        "import numpy as np\n",
        "from scipy.stats import ttest_1samp, wilcoxon, ttest_ind, mannwhitneyu\n",
        "mean_Session_length = 101\n",
        "sd_Session_length = 15/math.sqrt(50)\n",
        "\n",
        "data = sd_Session_length*randn(50)+mean_Session_length\n",
        "print(data)\n",
        "alpha = 0.05\n",
        "\n",
        "Nathan_Default_mean =100\n",
        "# one sample t-test\n",
        "# null hypothesis: expected value = Nathan_Default_mean\n",
        "t_statistic, p_value = ttest_1samp(data, Nathan_Default_mean)\n",
        "\n",
        "print(\"one-sample t-test, p value=\", p_value)\n",
        "if p_value > alpha:\n",
        "\tprint('Cant reject null hypothesis that the means are equal.')\n",
        "else:\n",
        "\tprint('Reject the null hypothesis that the means are equal. - They are different')"
      ],
      "metadata": {
        "colab": {
          "base_uri": "https://localhost:8080/"
        },
        "id": "sTfe_ujNyrc9",
        "outputId": "805e0b33-34a9-4ca0-cb6c-4394e49d0cca"
      },
      "execution_count": null,
      "outputs": [
        {
          "output_type": "stream",
          "name": "stdout",
          "text": [
            "[ 99.78640333  99.16668029 102.17938838  98.46516311 100.76997672\n",
            " 104.73091313 101.54450853 100.47335521 101.54562197 101.08154622\n",
            "  99.71436041 101.16718357 102.8508798  100.86018818  98.8778863\n",
            " 101.59682402  99.24806331 100.91942261  97.64301726 101.25323998\n",
            " 101.89746945 100.57811671  96.24945342  99.23262481  98.68253058\n",
            " 101.00874092  99.06339397 103.91492693 100.6888331  101.29516671\n",
            " 100.99342237 101.06635254 101.8229204   99.68073274 101.58516025\n",
            "  99.84499068 103.76225991  98.92355949  96.5258395  101.75189396\n",
            "  98.15245234 100.96604372 103.22094932  98.65274685 103.03732359\n",
            " 100.75890239 100.98071203  98.52113484 101.0793835  101.55356105]\n",
            "one-sample t-test, p value= 0.023127418054230738\n",
            "Reject the null hypothesis that the means are equal. - They are different\n"
          ]
        }
      ]
    },
    {
      "cell_type": "code",
      "source": [
        "group1 = 5 * randn(100) \n",
        "group2 = 5 * randn(100) \n",
        "t_statistic, p_value = ttest_ind(group1, group2)\n",
        "alpha = 0.05\n",
        "# p_value < 0.05 => alternative hypothesis:\n",
        "# they don't have the same mean at the 5% significance level\n",
        "print(\"two-sample t-test p value\", p_value)\n",
        "if p_value > alpha:\n",
        "\tprint('Cant Reject null hypothesis that the means are equal.')\n",
        "else:\n",
        "\tprint('Reject the null hypothesis that the means are equal. - They are different')"
      ],
      "metadata": {
        "colab": {
          "base_uri": "https://localhost:8080/"
        },
        "id": "2s32PVwo1cT7",
        "outputId": "70e26eef-7e31-4547-9c71-0dc5d8dad09b"
      },
      "execution_count": null,
      "outputs": [
        {
          "output_type": "stream",
          "name": "stdout",
          "text": [
            "two-sample t-test p value 0.5499260841732505\n",
            "Cant Reject null hypothesis that the means are equal.\n"
          ]
        }
      ]
    },
    {
      "cell_type": "code",
      "metadata": {
        "colab": {
          "base_uri": "https://localhost:8080/"
        },
        "id": "V5y4Q3R2A4ak",
        "outputId": "a6a7bbf9-9f66-47d3-dd65-62cbaf113a43"
      },
      "source": [
        "#Another t test example:\n",
        "\n",
        "from math import sqrt\n",
        "from numpy.random import seed\n",
        "from numpy.random import randn\n",
        "from numpy import mean\n",
        "from scipy.stats import t\n",
        "from scipy.stats import sem\n",
        "\n",
        "\n",
        "# seed the random number generator\n",
        "seed(1)\n",
        "# generate two independent samples\n",
        "data1 = 5 * randn(100) + 50\n",
        "data2 = 5 * randn(100) + 51\n",
        "# calculate the t test\n",
        "df = len(data1) + len(data2) - 2\n",
        "alpha = 0.05\n",
        "\n",
        "mean1, mean2 = mean(data1), mean(data2)\n",
        "\n",
        "se1, se2 = sem(data1), sem(data2)\n",
        "\n",
        "sed = sqrt(se1**2.0 + se2**2.0)\n",
        "\n",
        "t_stat = (mean1 - mean2) / sed\n",
        "\n",
        "df = len(data1) + len(data2) - 2\n",
        "\t# calculate the critical value\n",
        "p = (1.0 - t.cdf(abs(t_stat), df)) * 2.0\n",
        "\n",
        "print('t=%.3f, df=%d,  p=%.3f' % (t_stat, df,  p))\n",
        "\n",
        "# interpret via p-value\n",
        "if p > alpha:\n",
        "\tprint('Cant reject null hypothesis that the means are equal.')\n",
        "else:\n",
        "\tprint('Reject the null hypothesis that the means are equal.')"
      ],
      "execution_count": null,
      "outputs": [
        {
          "output_type": "stream",
          "name": "stdout",
          "text": [
            "t=-2.262, df=198,  p=0.025\n",
            "Reject the null hypothesis that the means are equal.\n"
          ]
        }
      ]
    },
    {
      "cell_type": "code",
      "metadata": {
        "id": "_3nUcnNLKsy8",
        "colab": {
          "base_uri": "https://localhost:8080/"
        },
        "outputId": "dc0623fb-64f2-4095-f249-fc795532e9c2"
      },
      "source": [
        "from statsmodels.stats.power import zt_ind_solve_power\n",
        "from statsmodels.stats.proportion import proportion_effectsize as es\n",
        " \n",
        "zt_ind_solve_power(effect_size=es(prop1=0.1, prop2=0.12), alpha=0.05, power=0.8, alternative=\"two-sided\")\n"
      ],
      "execution_count": null,
      "outputs": [
        {
          "output_type": "execute_result",
          "data": {
            "text/plain": [
              "3834.595739884031"
            ]
          },
          "metadata": {},
          "execution_count": 73
        }
      ]
    },
    {
      "cell_type": "code",
      "metadata": {
        "id": "stWHC70v9Ghh",
        "colab": {
          "base_uri": "https://localhost:8080/"
        },
        "outputId": "4034434a-59e3-40e4-aad9-3fc469579e93"
      },
      "source": [
        "# chi-squared test with similar proportions\n",
        "from scipy.stats import chi2_contingency\n",
        "from scipy.stats import chi2\n",
        "# contingency table\n",
        "#table = [\t[90, 165],[84,  307]]\n",
        "table = [\t[90, 165, 34],[84,  307, 65]]\n",
        "print(table)\n",
        "U, p, dof, expected = chi2_contingency(table, correction=False)\n",
        "print(U)\n",
        "print(p)\n",
        "print('dof=%d' % dof)\n",
        "print(expected)\n",
        "\n",
        "\n",
        "# interpret p-value\n",
        "alpha = 0.05\n",
        "print('significance=%.3f, p=%.3f' % (alpha, p))\n",
        "if p <= alpha:\n",
        "\tprint('Dependent (reject H0)')\n",
        "else:\n",
        "\tprint('Independent (fail to# reject H0)')"
      ],
      "execution_count": null,
      "outputs": [
        {
          "output_type": "stream",
          "name": "stdout",
          "text": [
            "[[90, 165, 34], [84, 307, 65]]\n",
            "16.003556618937814\n",
            "0.00033486660165148337\n",
            "dof=2\n",
            "[[ 67.49798658 183.09798658  38.40402685]\n",
            " [106.50201342 288.90201342  60.59597315]]\n",
            "significance=0.050, p=0.000\n",
            "Dependent (reject H0)\n"
          ]
        }
      ]
    }
  ]
}